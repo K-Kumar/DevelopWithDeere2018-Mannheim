{
  "nbformat": 4,
  "nbformat_minor": 0,
  "metadata": {
    "colab": {
      "name": "MyJohnDeere API Best Practices.ipynb",
      "version": "0.3.2",
      "provenance": [],
      "collapsed_sections": []
    },
    "kernelspec": {
      "name": "python3",
      "display_name": "Python 3"
    }
  },
  "cells": [
    {
      "metadata": {
        "id": "6YgVGcSU2nOC",
        "colab_type": "text"
      },
      "cell_type": "markdown",
      "source": [
        "#MyJohnDeere API Best Practices#"
      ]
    },
    {
      "metadata": {
        "id": "pk6N-wuO2u0x",
        "colab_type": "text"
      },
      "cell_type": "markdown",
      "source": [
        "This notebook contains a variety of 'Best Practices' that we have learned over the years that will help you use the MyJohnDeere APIs to the fullest extent."
      ]
    },
    {
      "metadata": {
        "id": "2lfqNzsU2qn6",
        "colab_type": "text"
      },
      "cell_type": "markdown",
      "source": [
        "**Note - This notebook requires that you be logged into Google.**\n",
        "\n",
        "Copyright (c) 2018 Deere & Company\n",
        " \n",
        "This software may be modified and distributed under the terms\n",
        "of the MIT license.  See the LICENSE file for details."
      ]
    },
    {
      "metadata": {
        "id": "nr4M2Mbtg_8B",
        "colab_type": "text"
      },
      "cell_type": "markdown",
      "source": [
        "#OAuth 1.0a Code for working with MyJohnDeere API#"
      ]
    },
    {
      "metadata": {
        "id": "lJDTecw3iPYi",
        "colab_type": "text"
      },
      "cell_type": "markdown",
      "source": [
        "The `requests_oauthlib` is a popular Python library for working with OAuth"
      ]
    },
    {
      "metadata": {
        "id": "KRspjasHiO3M",
        "colab_type": "code",
        "colab": {}
      },
      "cell_type": "code",
      "source": [
        "from requests_oauthlib import OAuth1Session"
      ],
      "execution_count": 0,
      "outputs": []
    },
    {
      "metadata": {
        "id": "PkcCA1g4hI_p",
        "colab_type": "text"
      },
      "cell_type": "markdown",
      "source": [
        "Using the application you created on https://developer.deere.com, copy the \"App Id\" and \"Shared Secret\" and use those to set the `client_key` and `client_secret` variables\n",
        "\n",
        "![Newly Created App](https://github.com/joshuajcarson/DevelopWithDeereOnboardingPictures/raw/master/NewlyCreatedApp.jpg)"
      ]
    },
    {
      "metadata": {
        "id": "fvsFxGB5g0Vd",
        "colab_type": "code",
        "colab": {}
      },
      "cell_type": "code",
      "source": [
        "client_key = 'place_client_key_here'\n",
        "client_secret = 'place_client_secret_here'\n",
        "\n",
        "#Leave the line below as-is. This line of code verifies that you've modified the client_key and client_secret to the values above so that your application can complete OAuth\"\n",
        "assert(client_key != 'place_client_key_here' and client_secret != 'place_client_secret_here'), \"You need to update your client_key and client_secret in this cell\""
      ],
      "execution_count": 0,
      "outputs": []
    },
    {
      "metadata": {
        "id": "x9xb78pWheJ8",
        "colab_type": "text"
      },
      "cell_type": "markdown",
      "source": [
        "Used the OAuth 1.0a URLs as found at https://developer.deere.com/#!documentation&doc=myjohndeere%2FoAuth.htm&anchor="
      ]
    },
    {
      "metadata": {
        "id": "iit2SXHShdJU",
        "colab_type": "code",
        "colab": {}
      },
      "cell_type": "code",
      "source": [
        "request_url = 'https://sandboxapi.deere.com/platform/oauth/request_token'\n",
        "authorize_url = 'https://my.deere.com/consentToUseOfData'\n",
        "access_token_url = 'https://sandboxapi.deere.com/platform/oauth/access_token'"
      ],
      "execution_count": 0,
      "outputs": []
    },
    {
      "metadata": {
        "id": "r43eiWuFhkF8",
        "colab_type": "text"
      },
      "cell_type": "markdown",
      "source": [
        "MyJohnDeere API uses a specific header for most types of json requests. We'll use that be default for our API calls"
      ]
    },
    {
      "metadata": {
        "id": "qgoONuXxg-XX",
        "colab_type": "code",
        "colab": {}
      },
      "cell_type": "code",
      "source": [
        "MYJOHNDEERE_V3_JSON_HEADERS = {'Accept': 'application/vnd.deere.axiom.v3+json',\n",
        "               'Content-Type': 'application/vnd.deere.axiom.v3+json'}"
      ],
      "execution_count": 0,
      "outputs": []
    },
    {
      "metadata": {
        "id": "8kABe8_Jh_XT",
        "colab_type": "text"
      },
      "cell_type": "markdown",
      "source": [
        "We will now slowly start to create our MyJohnDeere API SDK. For this notebook, we'll focus the functions on exclusively using the MyJohnDeere API.\n",
        "\n",
        "First, we'll wrap up the logic for dealing with the request token step of OAuth into a couple of functions"
      ]
    },
    {
      "metadata": {
        "id": "Rmk-7u1YhrZF",
        "colab_type": "code",
        "colab": {}
      },
      "cell_type": "code",
      "source": [
        "def get_authorization_url(resource_owner_key):\n",
        "  return authorize_url + '?oauth_token=' + resource_owner_key\n",
        "\n",
        "def get_request_token_information_for_myjohndeere_api():\n",
        "  oauth_request_token_step = OAuth1Session(client_key, client_secret=client_secret, callback_uri='oob')\n",
        "  request_token_response = oauth_request_token_step.fetch_request_token(request_url)\n",
        "  resource_owner_key = request_token_response.get('oauth_token')\n",
        "  resource_owner_secret = request_token_response.get('oauth_token_secret')\n",
        "  complete_authorize_url = get_authorization_url(resource_owner_key)\n",
        "  return resource_owner_key, resource_owner_secret, complete_authorize_url "
      ],
      "execution_count": 0,
      "outputs": []
    },
    {
      "metadata": {
        "id": "WWTtKIC_P0lu",
        "colab_type": "text"
      },
      "cell_type": "markdown",
      "source": [
        "After the request token step, we need to begin the verification flow. This is the step where the John Deere customer grants active consent to the software application to see the customer's data. Due to the fact this notebook acts similarly to desktop software, we'll direct the customers over to a specific link that John Deere manages "
      ]
    },
    {
      "metadata": {
        "id": "zjdhDkKBiLlt",
        "colab_type": "code",
        "outputId": "9620b4da-f78d-43b6-beae-b63ca2427af3",
        "colab": {
          "base_uri": "https://localhost:8080/",
          "height": 34
        }
      },
      "cell_type": "code",
      "source": [
        "request_resource_owner_key, request_resource_owner_secret, complete_authorize_url = get_request_token_information_for_myjohndeere_api()\n",
        "\"Click On \" + complete_authorize_url + \" and paste the results in the next cell as the verifier variable\""
      ],
      "execution_count": 0,
      "outputs": [
        {
          "output_type": "execute_result",
          "data": {
            "text/plain": [
              "'Click On https://my.deere.com/consentToUseOfData?oauth_token=6fa206c0-021d-4c0c-b2a6-c1d2fc21527f and paste the results in the next cell as the verifier variable'"
            ]
          },
          "metadata": {
            "tags": []
          },
          "execution_count": 7
        }
      ]
    },
    {
      "metadata": {
        "id": "C9uRUrvPiyrU",
        "colab_type": "text"
      },
      "cell_type": "markdown",
      "source": [
        "Follow the link from the results of the cell above, and copy the \"Verifier\" from that screen into the cell below\n",
        "![Verifier Screen](https://github.com/joshuajcarson/DevelopWithDeereOnboardingPictures/raw/master/VerifierScreen.jpg)"
      ]
    },
    {
      "metadata": {
        "id": "b6UdOu3Liv_V",
        "colab_type": "code",
        "colab": {}
      },
      "cell_type": "code",
      "source": [
        "verifier = 'place_verifier_here'\n",
        "\n",
        "#Leave the line below as-is. This is to make sure that the cell above is modified so that the verifier step of OAuth can finish.\n",
        "assert(verifier != 'place_verifier_here'), 'The verifier in this cell must be replaced by the verified that you should get from MyJohnDeere'"
      ],
      "execution_count": 0,
      "outputs": []
    },
    {
      "metadata": {
        "id": "1zMkHVGsy8Gw",
        "colab_type": "text"
      },
      "cell_type": "markdown",
      "source": [
        "Using the `verifier` from the step above, we'll create another function that continues the OAuth process with the verification step"
      ]
    },
    {
      "metadata": {
        "id": "ANPDXKKpIy1T",
        "colab_type": "code",
        "colab": {}
      },
      "cell_type": "code",
      "source": [
        "def get_verifier_token_information_for_myjohndeere_api(resource_owner_key, resource_owner_secret, verifier):\n",
        "  oauth_verifier_step = OAuth1Session(client_key,\n",
        "                          client_secret=client_secret,\n",
        "                          resource_owner_key=resource_owner_key,\n",
        "                          resource_owner_secret=resource_owner_secret,\n",
        "                          verifier=verifier)\n",
        "  oauth_tokens = oauth_verifier_step.fetch_access_token(access_token_url)\n",
        "  resource_owner_key = oauth_tokens.get('oauth_token')\n",
        "  resource_owner_secret = oauth_tokens.get('oauth_token_secret')\n",
        "  return resource_owner_key, resource_owner_secret"
      ],
      "execution_count": 0,
      "outputs": []
    },
    {
      "metadata": {
        "id": "zBaP_l5nK2tU",
        "colab_type": "code",
        "colab": {}
      },
      "cell_type": "code",
      "source": [
        "verifier_resource_owner_key, verifier_resource_owner_secret = get_verifier_token_information_for_myjohndeere_api(request_resource_owner_key, request_resource_owner_secret, verifier)"
      ],
      "execution_count": 0,
      "outputs": []
    },
    {
      "metadata": {
        "id": "z76h8pDhztnv",
        "colab_type": "text"
      },
      "cell_type": "markdown",
      "source": [
        "We'll create a function that encapsilates the final step of the OAuth flow where we establish the completed OAuth session"
      ]
    },
    {
      "metadata": {
        "id": "NpwCNhjKLJvz",
        "colab_type": "code",
        "colab": {}
      },
      "cell_type": "code",
      "source": [
        "def get_oauth_session_for_myjohndeere_api(resource_owner_key, resource_owner_secret):\n",
        "  return OAuth1Session(client_key, client_secret=client_secret, resource_owner_key=resource_owner_key, resource_owner_secret=resource_owner_secret)"
      ],
      "execution_count": 0,
      "outputs": []
    },
    {
      "metadata": {
        "id": "SRXa6SsXLWFq",
        "colab_type": "code",
        "colab": {}
      },
      "cell_type": "code",
      "source": [
        "oauth_session = get_oauth_session_for_myjohndeere_api(verifier_resource_owner_key, verifier_resource_owner_secret)"
      ],
      "execution_count": 0,
      "outputs": []
    },
    {
      "metadata": {
        "id": "YBxPMx9XjQQM",
        "colab_type": "text"
      },
      "cell_type": "markdown",
      "source": [
        "#Using `links` within the MyJohnDeere API#"
      ]
    },
    {
      "metadata": {
        "id": "QU1CJqUS0rCU",
        "colab_type": "text"
      },
      "cell_type": "markdown",
      "source": [
        "Links are a powerful tool in APIs that support [HATEOAS](https://en.wikipedia.org/wiki/HATEOAS). The MyJohnDeere API is no different. To start with, let us call the `API Catalog` and explore those links"
      ]
    },
    {
      "metadata": {
        "id": "OERc0Lm-DjtM",
        "colab_type": "code",
        "colab": {}
      },
      "cell_type": "code",
      "source": [
        "api_catalog_url = 'https://sandboxapi.deere.com/platform/'\n",
        "\n",
        "api_catalog_response = oauth_session.get(api_catalog_url, headers = MYJOHNDEERE_V3_JSON_HEADERS)\n",
        "\n",
        "api_catalog_response.json()"
      ],
      "execution_count": 0,
      "outputs": []
    },
    {
      "metadata": {
        "id": "CEVz2jB7QISb",
        "colab_type": "text"
      },
      "cell_type": "markdown",
      "source": [
        "While links can be incredible useful, they can often be made more usable to your praticular programming language with a few helper methods. The following function converts from the link JSON object into a python dictionary"
      ]
    },
    {
      "metadata": {
        "id": "AMnebzBXi-zk",
        "colab_type": "code",
        "colab": {}
      },
      "cell_type": "code",
      "source": [
        "def convert_links_array_to_dictionary(links_a):\n",
        "    link_dict = dict()\n",
        "    for link_o in links_a:\n",
        "        key = link_o['rel']\n",
        "        value = link_o['uri']\n",
        "        link_dict[key] = value\n",
        "    return link_dict"
      ],
      "execution_count": 0,
      "outputs": []
    },
    {
      "metadata": {
        "id": "SiXS-8aRQnPM",
        "colab_type": "text"
      },
      "cell_type": "markdown",
      "source": [
        "Lets look again at the API Catalog, only this time after we change the links from an array of link objects to a dictionary"
      ]
    },
    {
      "metadata": {
        "id": "oldBdFxtQuaq",
        "colab_type": "code",
        "colab": {}
      },
      "cell_type": "code",
      "source": [
        "api_catalog_links_as_dictionary = convert_links_array_to_dictionary(api_catalog_response.json()['links'])\n",
        "api_catalog_links_as_dictionary"
      ],
      "execution_count": 0,
      "outputs": []
    },
    {
      "metadata": {
        "id": "9Wy5lIQwgyLB",
        "colab_type": "text"
      },
      "cell_type": "markdown",
      "source": [
        "That looks a bit easier to work with. The `rel` has been converted to an attribute and the `uri` is now the value. Let us take it a step farther and modify the object itself to make using the responses themselves a bit easier."
      ]
    },
    {
      "metadata": {
        "id": "-QsGLi9XeUMv",
        "colab_type": "code",
        "colab": {}
      },
      "cell_type": "code",
      "source": [
        "def replace_links_as_object_array_with_links_as_dictionary(object_with_links_to_convert):\n",
        "  object_with_links_converted = object_with_links_to_convert\n",
        "  object_with_links_converted['links'] = convert_links_array_to_dictionary(object_with_links_to_convert['links'])\n",
        "  return object_with_links_converted"
      ],
      "execution_count": 0,
      "outputs": []
    },
    {
      "metadata": {
        "id": "kJCP9mGqeqAk",
        "colab_type": "code",
        "colab": {}
      },
      "cell_type": "code",
      "source": [
        "api_catalog_with_clean_links = replace_links_as_object_array_with_links_as_dictionary(api_catalog_response.json())\n",
        "api_catalog_with_clean_links"
      ],
      "execution_count": 0,
      "outputs": []
    },
    {
      "metadata": {
        "id": "sKIkIIZhikol",
        "colab_type": "text"
      },
      "cell_type": "markdown",
      "source": [
        "When calling the MyJohnDeere API for resources, you can control which possible links will appear in the response. This is done via the `showLinks` request param, where the values act as a filter to on the returned links. Lets look at the `API Catalog` again, but with fewer links"
      ]
    },
    {
      "metadata": {
        "id": "kJ1k7TbqmXls",
        "colab_type": "code",
        "colab": {}
      },
      "cell_type": "code",
      "source": [
        "api_catalog_showLinks_request_param = {'showLinks': 'currentToken,currentUser,organizations'}\n",
        "\n",
        "api_catalog_response_with_request_param = oauth_session.get(api_catalog_url, headers = MYJOHNDEERE_V3_JSON_HEADERS, params = api_catalog_showLinks_request_param)\n",
        "api_catalog_response_with_request_param.json()"
      ],
      "execution_count": 0,
      "outputs": []
    },
    {
      "metadata": {
        "id": "hhcozknjuKFd",
        "colab_type": "text"
      },
      "cell_type": "markdown",
      "source": [
        "Using the `showLinks` request param is helpful once you know which path through the MyJohnDeere API that your application should go through. It will reduce overall network traffic sometimes by more than 50%.\n",
        "\n",
        "Now lets chain our new helpful functions together to get just the links we want as well as in the format to make them even easier to work with"
      ]
    },
    {
      "metadata": {
        "id": "vDsObp0b4jxv",
        "colab_type": "code",
        "colab": {}
      },
      "cell_type": "code",
      "source": [
        "def create_show_links_request_param(links_to_show_comma_separated = None):\n",
        "  return {'showLinks' : links_to_show_comma_separated}\n",
        "\n",
        "def get_myjohndeere_api_json_response(oauth_session, myjohndeere_uri, headers = MYJOHNDEERE_V3_JSON_HEADERS, params = None):\n",
        "  json_response = oauth_session.get(myjohndeere_uri, headers = headers, params = params).json()\n",
        "  return replace_links_as_object_array_with_links_as_dictionary(json_response)"
      ],
      "execution_count": 0,
      "outputs": []
    },
    {
      "metadata": {
        "id": "OkuiUK4u6Bu5",
        "colab_type": "code",
        "colab": {}
      },
      "cell_type": "code",
      "source": [
        "api_catalog_response_with_clean_links = get_myjohndeere_api_json_response(oauth_session, myjohndeere_uri = api_catalog_url, params = create_show_links_request_param('currentToken,currentUser,organizations'))\n",
        "api_catalog_response_with_clean_links"
      ],
      "execution_count": 0,
      "outputs": []
    },
    {
      "metadata": {
        "id": "GzWwEoJ103Jr",
        "colab_type": "text"
      },
      "cell_type": "markdown",
      "source": [
        "Now that we can manage links well, lets follow a link to discover other resources within the MyJohnDeere API. Let's follow the '`currentUser`' link to see more information about the currently logged in user."
      ]
    },
    {
      "metadata": {
        "id": "czehqgpO1EGe",
        "colab_type": "code",
        "colab": {}
      },
      "cell_type": "code",
      "source": [
        "current_user_link = api_catalog_response_with_clean_links['links']['currentUser']\n",
        "current_user_response = get_myjohndeere_api_json_response(oauth_session, myjohndeere_uri = current_user_link)\n",
        "current_user_response"
      ],
      "execution_count": 0,
      "outputs": []
    },
    {
      "metadata": {
        "id": "tfJns6TM67zH",
        "colab_type": "text"
      },
      "cell_type": "markdown",
      "source": [
        "#Working with the `Collection` object : counts, nextPage links, and combining results#"
      ]
    },
    {
      "metadata": {
        "id": "v91BZTmV7IDl",
        "colab_type": "text"
      },
      "cell_type": "markdown",
      "source": [
        "Many of the APIs within the MyJohnDeere API return back a list of objects back, as compared to the single object responses we've seen with the `API Catalog` and `currentUser` links. We can start seeing a collection by following the '`organizations`' link from the `currentUser`"
      ]
    },
    {
      "metadata": {
        "id": "-Sv-9GTRyaoe",
        "colab_type": "code",
        "colab": {}
      },
      "cell_type": "code",
      "source": [
        "organizations_for_current_user_link = current_user_response['links']['organizations']\n",
        "get_myjohndeere_api_json_response(oauth_session, myjohndeere_uri = organizations_for_current_user_link)"
      ],
      "execution_count": 0,
      "outputs": []
    },
    {
      "metadata": {
        "id": "3hhsSopZ1iTw",
        "colab_type": "text"
      },
      "cell_type": "markdown",
      "source": [
        "We can see from the response that we get back links for the collection itself, which can contain links for '`self`' as well as the '`nextPage`' and '`previousPage`' used during pagination. We'll go into pagination in a later section. We also see attributes for `total` and `values`. The `total` attribute represents how many objects exist within the collection across all pages. \n",
        "\n",
        "The `values` attribute is an array of the actual objects we're interested in. In this particular example, we can see that the `links` array within each object could benefit from benefit from being simplified."
      ]
    },
    {
      "metadata": {
        "id": "Fea8lF9m6KFM",
        "colab_type": "code",
        "colab": {}
      },
      "cell_type": "code",
      "source": [
        "def get_myjohndeere_api_collection_json_response(oauth_session, myjohndeere_uri, headers = MYJOHNDEERE_V3_JSON_HEADERS, params = None):\n",
        "  collection_json_response = get_myjohndeere_api_json_response(oauth_session, myjohndeere_uri, headers, params)\n",
        "  values_from_collection = collection_json_response['values']\n",
        "  values_to_add_back_to_collection = []\n",
        "  for object in values_from_collection:\n",
        "    values_to_add_back_to_collection.append(replace_links_as_object_array_with_links_as_dictionary(object))\n",
        "  collection_json_response['values'] = values_to_add_back_to_collection\n",
        "  return collection_json_response"
      ],
      "execution_count": 0,
      "outputs": []
    },
    {
      "metadata": {
        "id": "bcXYCP-g7OdF",
        "colab_type": "code",
        "colab": {}
      },
      "cell_type": "code",
      "source": [
        "organizations_for_current_user_link = current_user_response['links']['organizations']\n",
        "get_myjohndeere_api_collection_json_response(oauth_session, myjohndeere_uri = organizations_for_current_user_link)"
      ],
      "execution_count": 0,
      "outputs": []
    },
    {
      "metadata": {
        "id": "I7fvRu-67Zkh",
        "colab_type": "text"
      },
      "cell_type": "markdown",
      "source": [
        "Now that we have simplified the JSON that we're working with, we will next handle pagination. The MyJohnDeere API uses pagination in order to reduce the load per API request. You can learn more about pagination at https://medium.com/square-corner-blog/tips-and-tricks-for-api-pagination-5cacc6f017da.\n",
        "\n",
        "In order to control the pagination, MyJohnDeere makes uses the matrix parameters `start` and `count`. In order to trigger pagination, we'll set the `count` to one and make our request. "
      ]
    },
    {
      "metadata": {
        "id": "09hHciaF_Zb9",
        "colab_type": "code",
        "colab": {}
      },
      "cell_type": "code",
      "source": [
        "organizations_for_current_user_link = current_user_response['links']['organizations']\n",
        "organizations_for_current_user_link_with_count_of_1 = organizations_for_current_user_link + ';count=1'\n",
        "get_myjohndeere_api_collection_json_response(oauth_session, myjohndeere_uri = organizations_for_current_user_link_with_count_of_1)"
      ],
      "execution_count": 0,
      "outputs": []
    },
    {
      "metadata": {
        "id": "HAC45XiBAe73",
        "colab_type": "text"
      },
      "cell_type": "markdown",
      "source": [
        "If we look closely at the response assuming that your logged in user has two organizations they are a staff member of, we should see a `nextPage` link, which wll have both `start=1` and `count=1`. Lets enhance our last method to follow any `nextPage` link found."
      ]
    },
    {
      "metadata": {
        "id": "FCji14f0AdZs",
        "colab_type": "code",
        "colab": {}
      },
      "cell_type": "code",
      "source": [
        "def get_myjohndeere_api_collection_values_for_all_pages(oauth_session, myjohndeere_uri, headers = MYJOHNDEERE_V3_JSON_HEADERS, params = None):\n",
        "  collection_response = get_myjohndeere_api_collection_json_response(oauth_session, myjohndeere_uri, headers, params)\n",
        "  collection_links = collection_response['links']\n",
        "  while 'nextPage' in collection_links:\n",
        "    next_page_response = get_myjohndeere_api_collection_json_response(oauth_session, collection_links['nextPage'], headers, params)\n",
        "    collection_links = next_page_response['links']\n",
        "    collection_response['values'].extend(next_page_response['values'])\n",
        "  return collection_response['values']"
      ],
      "execution_count": 0,
      "outputs": []
    },
    {
      "metadata": {
        "id": "Y1GjLH7_CoFM",
        "colab_type": "code",
        "colab": {}
      },
      "cell_type": "code",
      "source": [
        "organizations_for_current_user_link = current_user_response['links']['organizations']\n",
        "organizations_for_current_user_link_with_count_of_1 = organizations_for_current_user_link + ';count=1'\n",
        "get_myjohndeere_api_collection_values_for_all_pages(oauth_session, myjohndeere_uri = organizations_for_current_user_link_with_count_of_1)"
      ],
      "execution_count": 0,
      "outputs": []
    },
    {
      "metadata": {
        "id": "hCyJBlauDgGz",
        "colab_type": "text"
      },
      "cell_type": "markdown",
      "source": [
        "Now we're able to follow the `nextPage` links. We can quickly add another helper function to set the count to 100 for the first page. This is the current maximum page size."
      ]
    },
    {
      "metadata": {
        "id": "MQlDr75skMG8",
        "colab_type": "code",
        "colab": {}
      },
      "cell_type": "code",
      "source": [
        "def default_to_count_100(followable_link) :\n",
        "  return followable_link + \";count=100\""
      ],
      "execution_count": 0,
      "outputs": []
    },
    {
      "metadata": {
        "id": "Jbu4DKruEww3",
        "colab_type": "text"
      },
      "cell_type": "markdown",
      "source": [
        "To bring all of this together, lets call for our organization list using a page size of 100 and make sure we get the full response. We can also combine this with the `showLinks` request param to limit ourselves down to just the `machines`, `files`, and `fields` links."
      ]
    },
    {
      "metadata": {
        "id": "gWLzWjSZFISd",
        "colab_type": "code",
        "colab": {}
      },
      "cell_type": "code",
      "source": [
        "show_links_request_param_for_organization_list = {'showLinks' : 'machines,files,fields'}\n",
        "\n",
        "organizations_for_current_user_link = current_user_response['links']['organizations']\n",
        "organizations_for_current_user_link_with_page_size_of_100 = default_to_count_100(organizations_for_current_user_link)\n",
        "get_myjohndeere_api_collection_values_for_all_pages(oauth_session, organizations_for_current_user_link_with_page_size_of_100, params = show_links_request_param_for_organization_list)"
      ],
      "execution_count": 0,
      "outputs": []
    },
    {
      "metadata": {
        "id": "ArGDFKULtHcJ",
        "colab_type": "text"
      },
      "cell_type": "markdown",
      "source": [
        "#Using `embed` to optimize data retrieval#"
      ]
    },
    {
      "metadata": {
        "id": "Oi5-pgcEtSni",
        "colab_type": "text"
      },
      "cell_type": "markdown",
      "source": [
        "When setting up your app to retrieve data from the MyJohnDeere API, you will often need to retrieve a variety of related information. Many of the individual resources within the MyJohnDeere API support the concept of an '`embed`', which is when related resources are included with the resource being asked for.\n",
        "\n",
        "A specific example of `embed` being used in practice is how many consumers of the MyJohnDeere API get basic field information. Lets start by using one of the organizations from the list we just retrieved to see which fields are in that organization."
      ]
    },
    {
      "metadata": {
        "id": "zWcq79aTwFLD",
        "colab_type": "code",
        "colab": {}
      },
      "cell_type": "code",
      "source": [
        "show_field_links_request_param_for_organization_list = {'showLinks' : 'fields'}\n",
        "\n",
        "organization_list_for_logged_in_user = get_myjohndeere_api_collection_values_for_all_pages(oauth_session, organizations_for_current_user_link_with_page_size_of_100, params = show_field_links_request_param_for_organization_list)\n",
        "organization_which_has_fields_link = None\n",
        "for organization in organization_list_for_logged_in_user:\n",
        "  if 'fields' in organization['links']:\n",
        "    organization_which_has_fields_link = organization\n",
        "    break\n",
        "\n",
        "assert(organization_which_has_fields_link != None), \"The logged in user is not a staff member of any organization in which they can see fields\"\n",
        "organization_which_has_fields_link"
      ],
      "execution_count": 0,
      "outputs": []
    },
    {
      "metadata": {
        "id": "meCjyKSYx5NJ",
        "colab_type": "text"
      },
      "cell_type": "markdown",
      "source": [
        "Lets now follow the `fields` link to see which fields are available to our user within this organization."
      ]
    },
    {
      "metadata": {
        "id": "b04ZJSsEyNOR",
        "colab_type": "code",
        "colab": {}
      },
      "cell_type": "code",
      "source": [
        "organization_field_list_uri = organization_which_has_fields_link['links']['fields']\n",
        "organization_field_list_uri_with_count_100 = default_to_count_100(organization_field_list_uri)\n",
        "\n",
        "\n",
        "field_list_for_organization = get_myjohndeere_api_collection_values_for_all_pages(oauth_session, organization_field_list_uri_with_count_100)\n",
        "field_list_for_organization"
      ],
      "execution_count": 0,
      "outputs": []
    },
    {
      "metadata": {
        "id": "5efwot6Ky3aS",
        "colab_type": "text"
      },
      "cell_type": "markdown",
      "source": [
        "So long as your organization had more than zero fields, you should see the `field` object with a variety of links. Many consumers often want to know the `client` and `farm` for a given field so they can show additional details about a field in the UI, as well as want `simplifiedBoundaries` to know where to show the field on a map. \n",
        "\n",
        "Lets make the same call as before, but using the `embed` request param to get that data all in one call for the whole field list."
      ]
    },
    {
      "metadata": {
        "id": "K8qipnD5zhfF",
        "colab_type": "code",
        "colab": {}
      },
      "cell_type": "code",
      "source": [
        "farm_client_activeBoundary_embed_request_param = {'embed' : 'farms,clients,activeBoundary'}\n",
        "\n",
        "field_list_for_organization_with_embed = get_myjohndeere_api_collection_values_for_all_pages(oauth_session, organization_field_list_uri_with_count_100, params = farm_client_activeBoundary_embed_request_param)\n",
        "field_list_for_organization_with_embed"
      ],
      "execution_count": 0,
      "outputs": []
    },
    {
      "metadata": {
        "id": "cj0YJCke0yVV",
        "colab_type": "text"
      },
      "cell_type": "markdown",
      "source": [
        "As you can see, `embed` allows your application to extremely efficiently retrieve the data your application needs. We actively encourage our Connected Software Companies to use `embed` on many of our most common API requests. Please let us on the John Deere API support know if you see an oppertunity for us to add more `embed` options to the MyJohnDeere API to help optimize your application's common API requests."
      ]
    },
    {
      "metadata": {
        "id": "Ol4Ld3yu2B5c",
        "colab_type": "text"
      },
      "cell_type": "markdown",
      "source": [
        "#Optimizing your calls with GZip#"
      ]
    },
    {
      "metadata": {
        "id": "0w_IWYrr2WM6",
        "colab_type": "text"
      },
      "cell_type": "markdown",
      "source": [
        "It is important to optimize network traffic time as well as overall data consumption in many web applications. One standard optimization many applications use is to encode and compress the HTTP requests and responses. One of the most common methods of achieving this compression that the MyJohnDeere API uses is to use GZip, which you can read more about at https://en.wikipedia.org/wiki/Gzip\n",
        "\n",
        "Lets make some API calls where we include the appropriate `Accept-Encoding` so that our response can be encoded correctly"
      ]
    },
    {
      "metadata": {
        "id": "p9mKzW-T8-tB",
        "colab_type": "code",
        "colab": {}
      },
      "cell_type": "code",
      "source": [
        "MYJOHNDEERE_V3_JSON_AND_GZIP_HEADERS = {'Accept': 'application/vnd.deere.axiom.v3+json', 'Content-Type': 'application/vnd.deere.axiom.v3+json', 'Accept-Encoding' : 'gzip' }\n",
        "\n",
        "organization_field_list_with_embed_responses_gzip = oauth_session.get(organization_field_list_uri_with_count_100, headers = MYJOHNDEERE_V3_JSON_AND_GZIP_HEADERS, params = farm_client_activeBoundary_embed_request_param)\n",
        "field_list_response_size_in_byte_with_gzip = len(organization_field_list_with_embed_responses_gzip.content)\n",
        "print(\"Response size of of the field list with GZip was \" + str(field_list_response_size_in_byte_with_gzip))"
      ],
      "execution_count": 0,
      "outputs": []
    },
    {
      "metadata": {
        "id": "A-7fMHio1leV",
        "colab_type": "text"
      },
      "cell_type": "markdown",
      "source": [
        "#Recommended administration features to add to your integration#"
      ]
    },
    {
      "metadata": {
        "id": "HVhPVkA-IV7M",
        "colab_type": "text"
      },
      "cell_type": "markdown",
      "source": [
        "###Using the `currentToken` object to make sure your customers have uninterrupted service###"
      ]
    },
    {
      "metadata": {
        "id": "To6Zpkro3asG",
        "colab_type": "text"
      },
      "cell_type": "markdown",
      "source": [
        "Access Tokens for the MyJohnDeere API last for one year. It is good practice to know when your tokens will expire and to include in administration screens to remind your customers to renew their tokens before the year is finished. We'll use the 'currentToken' link from the API Catalog to discover our expiration date"
      ]
    },
    {
      "metadata": {
        "id": "VYg-8o333qcR",
        "colab_type": "code",
        "colab": {}
      },
      "cell_type": "code",
      "source": [
        "current_token_uri = api_catalog_response_with_clean_links['links']['currentToken']\n",
        "current_token_json_response = get_myjohndeere_api_json_response(oauth_session, current_token_uri)\n",
        "current_token_json_response"
      ],
      "execution_count": 0,
      "outputs": []
    },
    {
      "metadata": {
        "id": "2N27N311Ixru",
        "colab_type": "code",
        "colab": {}
      },
      "cell_type": "code",
      "source": [
        "print(\"Your token will expire on \" + current_token_json_response['expirationDate'])"
      ],
      "execution_count": 0,
      "outputs": []
    },
    {
      "metadata": {
        "id": "m7cM79pZI7mt",
        "colab_type": "text"
      },
      "cell_type": "markdown",
      "source": [
        "We recommend that you include alerting to your customers within your own application when tokens are about to expire. We have seen alerts at six and then three months work effectively."
      ]
    },
    {
      "metadata": {
        "id": "tcoE6g9PJ9jL",
        "colab_type": "text"
      },
      "cell_type": "markdown",
      "source": [
        "###Using the `currentUser` object as a 'foreign key' into the MyJohnDeere API###"
      ]
    },
    {
      "metadata": {
        "id": "OnspczTx4OUF",
        "colab_type": "text"
      },
      "cell_type": "markdown",
      "source": [
        "While your application likely has an account creation process and therefore has access to information like your customer's name, it is still useful to be able to understand who the user is within John Deere Operations Center. We'll use the 'currentUser' link from the API Catalog to discover some key details about the logged in user."
      ]
    },
    {
      "metadata": {
        "id": "I7d0sjXb3xLp",
        "colab_type": "code",
        "colab": {}
      },
      "cell_type": "code",
      "source": [
        "current_user_uri = api_catalog_response_with_clean_links['links']['currentUser']\n",
        "current_user_json_response = get_myjohndeere_api_json_response(oauth_session, current_user_uri)\n",
        "current_user_json_response"
      ],
      "execution_count": 0,
      "outputs": []
    },
    {
      "metadata": {
        "id": "w1r01TfVKavI",
        "colab_type": "text"
      },
      "cell_type": "markdown",
      "source": [
        "The `currentUser` object contains a few key elements that you'll likely find useful. The `userType` attribute lets you know if the logged in user is a John Deere customer or a John Deere dealer, which you can use to give a more customized experience. The `accountName` attribute is the username of the customer within the John Deere system. Your own tooling should keep a record of this whenever you encounter errors that you plan to submit to John Deere's API support team at APIDevSupport@JohnDeere.com. This will enable the support team to help you  fix issues quickly."
      ]
    },
    {
      "metadata": {
        "id": "qAO8Yq6NNk6N",
        "colab_type": "text"
      },
      "cell_type": "markdown",
      "source": [
        "#Handling API errors#"
      ]
    },
    {
      "metadata": {
        "id": "Zld-5nXUNn63",
        "colab_type": "text"
      },
      "cell_type": "markdown",
      "source": [
        "###Dealing with 500 responses###"
      ]
    },
    {
      "metadata": {
        "id": "IIEjI-bBQjjc",
        "colab_type": "text"
      },
      "cell_type": "markdown",
      "source": [
        "Error handling is a key part of any rebust system. At John Deere, we are striving to have a system with the maximum possible uptime. However, inevitably your application will encounter a `500` response, or a server failure, from the John Deere servers. You can learn more about HTTP status codes from wikipedia at https://en.wikipedia.org/wiki/List_of_HTTP_status_codes.\n",
        "\n",
        "We recommend that you add exponential backup logic to your MyJohnDeere API requests to try again later whenever you encounter a 500. For this code section, we'll use [httpstat.us](https://httpstat.us/) as a helpful tool to automatically generate 500 errors for us to encounter."
      ]
    },
    {
      "metadata": {
        "id": "Bywgaq_JSCOk",
        "colab_type": "code",
        "colab": {}
      },
      "cell_type": "code",
      "source": [
        "uri_that_always_generates_500_errors = \"https://httpstat.us/500\"\n",
        "oauth_session.get(uri_that_always_generates_500_errors)"
      ],
      "execution_count": 0,
      "outputs": []
    },
    {
      "metadata": {
        "id": "nytxXKxMUH2f",
        "colab_type": "text"
      },
      "cell_type": "markdown",
      "source": [
        "Now we'll add some code to retry when we encounter a 500. We will also import some libraries for dealing with time."
      ]
    },
    {
      "metadata": {
        "id": "FhQ8hn-IVdA_",
        "colab_type": "code",
        "colab": {}
      },
      "cell_type": "code",
      "source": [
        "import time\n",
        "import datetime\n",
        "\n",
        "def is_status_code_a_server_error(http_status_code):\n",
        "  return http_status_code >= 500 and http_status_code < 600\n",
        "\n",
        "def print_current_time_to_console():\n",
        "  print(\"Making a call at \" + str(datetime.datetime.now()))\n",
        "\n",
        "def call_api_with_500_retry_logic(oauth_session, uri_to_call):\n",
        "  print_current_time_to_console()\n",
        "  timer_in_seconds = 1\n",
        "  api_response = oauth_session.get(uri_to_call)\n",
        "  while(is_status_code_a_server_error(api_response.status_code) and timer_in_seconds < 30):\n",
        "    time.sleep(timer_in_seconds)\n",
        "    timer_in_seconds = timer_in_seconds * 2\n",
        "    print_current_time_to_console()\n",
        "    api_response = oauth_session.get(uri_to_call)\n",
        "  print(\"Unable to succeed in the API call. This would be a good point to log the exact API call made, the username of the caller, as well as the date\")"
      ],
      "execution_count": 0,
      "outputs": []
    },
    {
      "metadata": {
        "id": "uILQQeqCXT3M",
        "colab_type": "code",
        "colab": {}
      },
      "cell_type": "code",
      "source": [
        "call_api_with_500_retry_logic(oauth_session, uri_that_always_generates_500_errors)"
      ],
      "execution_count": 0,
      "outputs": []
    },
    {
      "metadata": {
        "id": "WeQnkgfi2TmN",
        "colab_type": "text"
      },
      "cell_type": "markdown",
      "source": [
        "###Dealing with 429 responses###"
      ]
    },
    {
      "metadata": {
        "id": "Ww15GVG72ZWm",
        "colab_type": "text"
      },
      "cell_type": "markdown",
      "source": [
        "The MyJohnDeere API has built-in protections against clients that overwhelm the MyJohnDeere API servers with requests. These same protections are also used when the MyJohnDeere API server itself is under unusually high load. The protection that is used is the `429` response, which you can learn more about at https://tools.ietf.org/html/rfc6585 and well as MyJohnDeere API's specific implemetation at https://developer.deere.com/#!documentation&doc=myjohndeere%2F429.htm&anchor=\n",
        "\n",
        "To set up the coding example, we'll start by setting up a `mock` to make sure a request to a mock version of `API Catalog` returns backs the `429` response.\n",
        "\n"
      ]
    },
    {
      "metadata": {
        "id": "9Z7XqyTY3bnO",
        "colab_type": "code",
        "colab": {}
      },
      "cell_type": "code",
      "source": [
        "!pip install requests_mock"
      ],
      "execution_count": 0,
      "outputs": []
    },
    {
      "metadata": {
        "id": "KFuY0OCo3UKY",
        "colab_type": "code",
        "colab": {}
      },
      "cell_type": "code",
      "source": [
        "import requests\n",
        "import requests_mock\n",
        "\n",
        "mock_api_catalog_uri = 'mock://sandboxapi.deere.com/platform/'\n",
        "\n",
        "session = requests.Session()\n",
        "adapter = requests_mock.Adapter()\n",
        "session.mount('mock', adapter)\n",
        "\n",
        "retry_after_two_seconds_header = {'Retry-After' : '2'}\n",
        "adapter.register_uri('GET', mock_api_catalog_uri, status_code = 429, headers = retry_after_two_seconds_header)"
      ],
      "execution_count": 0,
      "outputs": []
    },
    {
      "metadata": {
        "id": "1RvaWLo55Aih",
        "colab_type": "text"
      },
      "cell_type": "markdown",
      "source": [
        "With 500 errors, the exponential backup was the recommended approach in order to eventually succeed without overwhelming the servers. With the 429 response, the MyJohnDeere API server gives a specific recommendation for the number of seconds to wait before attempting to retry. We will use that response header in order to setup our sleep timers."
      ]
    },
    {
      "metadata": {
        "id": "43wBNB7b3ivB",
        "colab_type": "code",
        "colab": {}
      },
      "cell_type": "code",
      "source": [
        "import time\n",
        "import datetime\n",
        "\n",
        "def is_status_code_429(http_status_code):\n",
        "  return http_status_code == 429\n",
        "\n",
        "def print_current_time_to_console():\n",
        "  print(\"Making a call at \" + str(datetime.datetime.now()))\n",
        "  \n",
        "def call_api_with_429_retry_logic(session, uri_to_call):\n",
        "  print_current_time_to_console()\n",
        "  attempts = 0\n",
        "  api_response = session.get(uri_to_call)\n",
        "  while(is_status_code_429(api_response.status_code) and attempts < 3):\n",
        "    time.sleep(int(api_response.headers['Retry-After']))\n",
        "    attempts = attempts + 1\n",
        "    print_current_time_to_console()\n",
        "    api_response = session.get(uri_to_call)\n",
        "  print(\"For the 429, it can still be useful to have a maximum amount of retrys before considering the API call a failure\")"
      ],
      "execution_count": 0,
      "outputs": []
    },
    {
      "metadata": {
        "id": "VMWtRo5g8cKV",
        "colab_type": "code",
        "colab": {}
      },
      "cell_type": "code",
      "source": [
        "call_api_with_429_retry_logic(session, mock_api_catalog_uri)"
      ],
      "execution_count": 0,
      "outputs": []
    },
    {
      "metadata": {
        "id": "LVKuC2Li1rl1",
        "colab_type": "text"
      },
      "cell_type": "markdown",
      "source": [
        "#Getting your application to production#"
      ]
    },
    {
      "metadata": {
        "id": "OV2ajDHH5_Ga",
        "colab_type": "text"
      },
      "cell_type": "markdown",
      "source": [
        "###Application access while in Sandbox###"
      ]
    },
    {
      "metadata": {
        "id": "56SJ9cEK6CQN",
        "colab_type": "text"
      },
      "cell_type": "markdown",
      "source": [
        "Applications on developer.deere.com have two major lifecycle phases. One is called \"Sandbox\", which is when your application is in testing and the number of users of your application is limited. The second is called \"Production\", which is when the limitation on the number of users is removed. In both cases, your application is interacting with the same users an the same data as is available in the MyJohnDeere Operations Center."
      ]
    },
    {
      "metadata": {
        "id": "nHiUu3X72OLE",
        "colab_type": "text"
      },
      "cell_type": "markdown",
      "source": [
        "To limit the number of users of an application in Sandbox within the MyJohnDeere API, only \"Team\" members of an application on developer.deere.com are allowed to complete OAuth. So that you can see same error message, the next cell should be attempted with a John Deere Account that is not a \"Team\" member of your application"
      ]
    },
    {
      "metadata": {
        "id": "J1ryqoT-3wmO",
        "colab_type": "text"
      },
      "cell_type": "markdown",
      "source": [
        "This is a picture showing the \"TEAM MEMBERS\" of an application on developer.deere.com. Only these team members can complete OAuth for this application while the application is in \"Sandbox\".\n",
        "\n",
        "![Team Section on developer.deere.com](https://github.com/JohnDeere/DevelopWithDeere2018-Mannheim/raw/master/Developer%20Track/Best%20Practices/TeamOnDeveloperDeereCom.png)"
      ]
    },
    {
      "metadata": {
        "id": "d8hdGEca4x_I",
        "colab_type": "code",
        "colab": {}
      },
      "cell_type": "code",
      "source": [
        "#This cell should be run as a user that is not a team member of the client specified at the top of the notebook if you're interested in seeing the 403 error message yourself.\n",
        "other_request_resource_owner_key, other_request_resource_owner_secret, other_complete_authorize_url = get_request_token_information_for_myjohndeere_api()\n",
        "\"Click On \" + complete_authorize_url + \" to see the attempt to complete OAuth as a non-team member\""
      ],
      "execution_count": 0,
      "outputs": []
    },
    {
      "metadata": {
        "id": "rrIf8Z4V4uJi",
        "colab_type": "text"
      },
      "cell_type": "markdown",
      "source": [
        "Below shows the error message you will get if you attempt to complete OAuth with a John Deere user that is not a team member of your application on developer.deere.com\n",
        "\n",
        "![403 on OAuth attempt by non-team member](https://github.com/JohnDeere/DevelopWithDeere2018-Mannheim/raw/master/Developer%20Track/Best%20Practices/403ErrorOnOAuthFailure.png)"
      ]
    },
    {
      "metadata": {
        "id": "U8CZA1H55cHm",
        "colab_type": "text"
      },
      "cell_type": "markdown",
      "source": [
        "###Getting to production###"
      ]
    },
    {
      "metadata": {
        "id": "tSdc9r8a5gPh",
        "colab_type": "text"
      },
      "cell_type": "markdown",
      "source": [
        "When you feel your application is ready to go to production with the MyJohnDeere API, such as because you're integration is ready for broading user testing or to be publicly available to all, there is two key steps your application must do in order to be granted access to Production."
      ]
    },
    {
      "metadata": {
        "id": "ACyW6KD97MQC",
        "colab_type": "text"
      },
      "cell_type": "markdown",
      "source": [
        "The John Deere's API support team needs to do an engineering review of your application's API usage. John Deere's API support team will schedule a review, where it is requested that\n",
        "\n",
        "\n",
        "*   Your application should be used like a real customer would use your application. This can include initial signup steps, potential data creation steps, as well as polling loops\n",
        "*   We make sure the scheduled time is at a time of overlapping business hours for both teams. If it is not possible, we'll adjust the time to favor your hours\n",
        "*   John Deere's API support team will review the logs of your application's API usage\n",
        "\n",
        "If anything critical is noticed in the review, such as potential DDoS attacks or extremely inefficient usage of the APIs, the review will not pass. Otherwise, the engineering review is done."
      ]
    },
    {
      "metadata": {
        "id": "FWerEr5v7MwF",
        "colab_type": "text"
      },
      "cell_type": "markdown",
      "source": [
        "The John Deere Business Development team needs to get an API usage agreement signed between your software company and John Deere. This agreement goes over all of the APIs required, the allowed maximum usage of those APIs, as well as what behavior is and is not allowed."
      ]
    },
    {
      "metadata": {
        "id": "79v4ET3p7fG8",
        "colab_type": "text"
      },
      "cell_type": "markdown",
      "source": [
        "Once all of the above steps are complete, production access will be granted. In technical practice, this means that your application will need to change the base uri that is used to communicate with the MyJohnDeere API. The base uri will be 'https://partnerapi.deere.com/platform/ ' instead of 'https://sandboxapi.deere.com/platform/ '."
      ]
    },
    {
      "metadata": {
        "id": "aGkI-3be8CSO",
        "colab_type": "text"
      },
      "cell_type": "markdown",
      "source": [
        "#Selecting the right organization for a grower#"
      ]
    },
    {
      "metadata": {
        "id": "FZWsArof8ylb",
        "colab_type": "text"
      },
      "cell_type": "markdown",
      "source": [
        "Most applications connected to the MyJohnDeere API are focused on helping a farmer improve some aspect of farming. While uncommon, farmers can be members of multiple organizations within Operations Center. The following example is potential method that your application can use for John Deere users that are members of multiple organizations. In the second cell, make sure to change the `selected_organization_index` to an organization from the results from the first cell."
      ]
    },
    {
      "metadata": {
        "id": "aJKtEDPA71FZ",
        "colab_type": "code",
        "colab": {}
      },
      "cell_type": "code",
      "source": [
        "current_user_response = get_myjohndeere_api_json_response(oauth_session, current_user_uri)\n",
        "organizations_for_current_user_uri = current_user_response['links']['organizations']\n",
        "organizations_for_current_user_uri = default_to_count_100(organizations_for_current_user_uri)\n",
        "organizations_for_current_user = get_myjohndeere_api_collection_values_for_all_pages(oauth_session, organizations_for_current_user_uri)\n",
        "organization_index = 0\n",
        "for organization in organizations_for_current_user:\n",
        "  print(\"[\" + str(organization_index) + \"] \" + organization['name'])\n",
        "  organization_index = organization_index + 1"
      ],
      "execution_count": 0,
      "outputs": []
    },
    {
      "metadata": {
        "id": "pSjOV_Q1--BO",
        "colab_type": "code",
        "colab": {}
      },
      "cell_type": "code",
      "source": [
        "#Replace the value of selected_organization_index to one of the values listed from the cell above\n",
        "selected_organization_index = 0\n",
        "\n",
        "selected_organization = organizations_for_current_user[selected_organization_index]\n",
        "print(\"The organization chosen has a name of \\\"\" + selected_organization['name'] + \"\\\" and an id of \" + selected_organization['id'])"
      ],
      "execution_count": 0,
      "outputs": []
    },
    {
      "metadata": {
        "id": "SRI6VONnBsrs",
        "colab_type": "text"
      },
      "cell_type": "markdown",
      "source": [
        "#Selecting the right organization for a contractor or a John Deere dealer#"
      ]
    },
    {
      "metadata": {
        "id": "0y3J0SOTCO6Q",
        "colab_type": "text"
      },
      "cell_type": "markdown",
      "source": [
        "Applications that focus on improving a contractors or a John Deere dealer's ability to support their customers often need to look at organizations a bit differently. They need to be able to see now only the organizations of the logged in user but also all the organizations that the logged in user supports. Often times the applications that contractors and John Deere dealers use need to help support multiple organizations at the same time. The following example shows a possible method that your application can use to select organizations for a contractor.\n",
        "\n",
        "Note - Your application will still need to make later calls for the resources your application needs from each organization. This selection process is just to make sure your application only downloads and uses the data it needs to serve the contractor or John Deere dealer "
      ]
    },
    {
      "metadata": {
        "id": "Vna2DZTcAr5V",
        "colab_type": "code",
        "colab": {}
      },
      "cell_type": "code",
      "source": [
        "api_catalog_response = get_myjohndeere_api_json_response(oauth_session, api_catalog_url)\n",
        "organizations_uri = api_catalog_response['links']['organizations']\n",
        "organizations_uri = default_to_count_100(organizations_uri)\n",
        "\n",
        "organizations_visible_to_logged_in_user = get_myjohndeere_api_collection_values_for_all_pages(oauth_session, organizations_uri)\n",
        "organization_index = 0\n",
        "for organization in organizations_visible_to_logged_in_user:\n",
        "  print(\"[\" + str(organization_index) + \"] \" + organization['name'])\n",
        "  organization_index = organization_index + 1"
      ],
      "execution_count": 0,
      "outputs": []
    },
    {
      "metadata": {
        "id": "YDK-2UorD_Iy",
        "colab_type": "code",
        "colab": {}
      },
      "cell_type": "code",
      "source": [
        "#Replace the values in the array below with the organizations you want to pick from above\n",
        "selected_organizations_array = [0, 1]\n",
        "\n",
        "selected_organizations = [organizations_visible_to_logged_in_user[i] for i in selected_organizations_array]\n",
        "print(\"The number of organizations chosen was \" + str(len(selected_organizations)))"
      ],
      "execution_count": 0,
      "outputs": []
    }
  ]
}
